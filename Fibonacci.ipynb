{
  "nbformat": 4,
  "nbformat_minor": 0,
  "metadata": {
    "colab": {
      "name": "Fibonacci.ipynb",
      "provenance": [],
      "collapsed_sections": [],
      "include_colab_link": true
    },
    "kernelspec": {
      "name": "python3",
      "display_name": "Python 3"
    }
  },
  "cells": [
    {
      "cell_type": "markdown",
      "metadata": {
        "id": "view-in-github",
        "colab_type": "text"
      },
      "source": [
        "<a href=\"https://colab.research.google.com/github/PyGeek03/Crazy-Fibonacci/blob/master/Fibonacci.ipynb\" target=\"_parent\"><img src=\"https://colab.research.google.com/assets/colab-badge.svg\" alt=\"Open In Colab\"/></a>"
      ]
    },
    {
      "cell_type": "markdown",
      "metadata": {
        "id": "UbzGl363srmR",
        "colab_type": "text"
      },
      "source": [
        "We will need decimal because 1) Python represents very big numbers in the scientific notation and 2) if we use ordinary float, at n = 1474 (which is pitifully small), it will overflow:  `OverflowError: (34, 'Numerical result out of range')`"
      ]
    },
    {
      "cell_type": "code",
      "metadata": {
        "id": "iJjLKWl_snn3",
        "colab_type": "code",
        "colab": {}
      },
      "source": [
        "from timeit import default_timer\n",
        "from math import sqrt\n",
        "\n",
        "from decimal import *\n",
        "D = Decimal"
      ],
      "execution_count": 0,
      "outputs": []
    },
    {
      "cell_type": "markdown",
      "metadata": {
        "id": "dJqq8gbstSj6",
        "colab_type": "text"
      },
      "source": [
        "Let's initialize the range of decimal's possible exponents to be as wide as necessary:"
      ]
    },
    {
      "cell_type": "code",
      "metadata": {
        "id": "-IoGEJGBtdKY",
        "colab_type": "code",
        "colab": {}
      },
      "source": [
        "# fib(0) = 0\n",
        "getcontext().Emin = 0\n",
        "\n",
        "# On 64-bit machines, decimal.MAX_EMAX is 999999999999999999. On 32-bit ones, ut's 425000000.\n",
        "getcontext().Emax = MAX_EMAX"
      ],
      "execution_count": 0,
      "outputs": []
    },
    {
      "cell_type": "markdown",
      "metadata": {
        "id": "N-T04M3vt5UU",
        "colab_type": "text"
      },
      "source": [
        "At n < 4784972, we use Binet's formula. But at n = 4784972, decimal will overflow, so we have to resort to fast doubling:"
      ]
    },
    {
      "cell_type": "code",
      "metadata": {
        "id": "t1zTGQB4I3P7",
        "colab_type": "code",
        "colab": {}
      },
      "source": [
        "def fib(n):\n",
        "    assert n >= 0\n",
        "    if n < 4784972: \n",
        "        return _binet(n)\n",
        "    else:\n",
        "        return _fast_doubling(n)[0]\n",
        "  \n",
        "  \n",
        "def _binet(n):\n",
        "    \"\"\"Binet's formula:\n",
        "    (golden**n - (1-golden)**n)/sqrt(5)\n",
        "    \"\"\"   \n",
        "    golden = (1 + D(5).sqrt())/2\n",
        "    fib = (Context().power(golden,D(n)) - Context().power(1-golden, D(n)))/D(5).sqrt()\n",
        "    return Context().to_integral_exact(fib)\n",
        "  \n",
        "  \n",
        "def _fast_doubling(n):\n",
        "    \"\"\"Fast doubling method:\n",
        "    F(2n) = F(n)*(2*F(n+1) – F(n))\n",
        "    F(2n + 1) = F(n)**2 + F(n+1)**2\n",
        "    \"\"\"\n",
        "    if n <= 4784970:\n",
        "        return (_binet(n), _binet(n+1))\n",
        "    else:\n",
        "        fib_n, fib_n_plus_1 = _fast_doubling(n // 2)\n",
        "        fib_2n = fib_n * (fib_n_plus_1 * 2 - fib_n)\n",
        "        fib_2n_plus_1 = fib_n**2 + fib_n_plus_1**2\n",
        "        fib_2n_plus_2 = fib_2n + fib_2n_plus_1\n",
        "      \n",
        "        if n % 2 == 0:\n",
        "            return (fib_2n, fib_2n_plus_1)\n",
        "        else:\n",
        "            return (fib_2n_plus_1, fib_2n_plus_2)"
      ],
      "execution_count": 0,
      "outputs": []
    },
    {
      "cell_type": "markdown",
      "metadata": {
        "id": "MNPqoWKptyQd",
        "colab_type": "text"
      },
      "source": [
        "Let's look at the maximum Fibonacci number our fib function could calculate, and how long the calculation would take!"
      ]
    },
    {
      "cell_type": "code",
      "metadata": {
        "id": "DP4yPpmWtxMw",
        "colab_type": "code",
        "colab": {
          "base_uri": "https://localhost:8080/",
          "height": 89
        },
        "outputId": "74ab45a2-9749-402b-8c41-aa95ea767f80"
      },
      "source": [
        "max_n = 4784971966781665971  # Any bigger n and decimal will overflow\n",
        "\n",
        "start = default_timer()\n",
        "max_fib = fib(max_n)\n",
        "taken = default_timer() - start\n",
        "print('The {}-th Fibonacci number is:\\n{}\\n'.format(max_n, max_fib))\n",
        "print('Calculating it takes {} seconds'.format(taken))"
      ],
      "execution_count": 49,
      "outputs": [
        {
          "output_type": "stream",
          "text": [
            "The 4784971966781665971-th Fibonacci number is:\n",
            "3.764070649112636815213426347E+999999999999999999\n",
            "\n",
            "Calculating it takes 0.00029197200001362944 seconds\n"
          ],
          "name": "stdout"
        }
      ]
    },
    {
      "cell_type": "markdown",
      "metadata": {
        "id": "0cNaj5TzwWme",
        "colab_type": "text"
      },
      "source": [
        "That's less than a fraction of a second! However, it's not absolutely accurate though. The last n that would give us absolute accuracy is 122. \n",
        "\n",
        "Try that out for yourself!\n",
        "\n",
        "(Source for expected Fibonacci numbers: http://www.maths.surrey.ac.uk/hosted-sites/R.Knott/Fibonacci/fibtable.html)"
      ]
    },
    {
      "cell_type": "code",
      "metadata": {
        "id": "jBZuYW790Wk8",
        "colab_type": "code",
        "colab": {}
      },
      "source": [
        "actual   = fib(121)\n",
        "expected =  8670007398507948658051921"
      ],
      "execution_count": 0,
      "outputs": []
    },
    {
      "cell_type": "code",
      "metadata": {
        "id": "fPYdtBPkwVp_",
        "colab_type": "code",
        "colab": {}
      },
      "source": [
        "actual   = fib(122)  # The last fib(n) with absolute accuracy\n",
        "expected = 14028366653498915298923761"
      ],
      "execution_count": 0,
      "outputs": []
    },
    {
      "cell_type": "code",
      "metadata": {
        "id": "qYwyTkbfxKbP",
        "colab_type": "code",
        "colab": {}
      },
      "source": [
        "actual   = fib(123)  # It's all downhill from here...\n",
        "expected = 22698374052006863956975682"
      ],
      "execution_count": 0,
      "outputs": []
    },
    {
      "cell_type": "code",
      "metadata": {
        "id": "lngVqGvPxOmq",
        "colab_type": "code",
        "colab": {}
      },
      "source": [
        "actual   = fib(124)\n",
        "expected = 36726740705505779255899443"
      ],
      "execution_count": 0,
      "outputs": []
    },
    {
      "cell_type": "code",
      "metadata": {
        "id": "CRPEuqp-yh35",
        "colab_type": "code",
        "colab": {
          "base_uri": "https://localhost:8080/",
          "height": 71
        },
        "outputId": "b7a4ba59-be70-4966-d0d3-567e2a11c1c7"
      },
      "source": [
        "print('Actual: {}'.format(actual))\n",
        "print('Expected: {}'.format(expected))\n",
        "print('Difference: {}'.format(actual - expected))"
      ],
      "execution_count": 69,
      "outputs": [
        {
          "output_type": "stream",
          "text": [
            "Actual: 36726740705505779255899442\n",
            "Expected: 36726740705505779255899443\n",
            "Difference: -1\n"
          ],
          "name": "stdout"
        }
      ]
    }
  ]
}
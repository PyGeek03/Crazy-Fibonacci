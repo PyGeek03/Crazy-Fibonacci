{
  "nbformat": 4,
  "nbformat_minor": 0,
  "metadata": {
    "colab": {
      "name": "Fibonacci.ipynb",
      "version": "0.3.2",
      "provenance": [],
      "collapsed_sections": [],
      "include_colab_link": true
    },
    "kernelspec": {
      "name": "python3",
      "display_name": "Python 3"
    }
  },
  "cells": [
    {
      "cell_type": "markdown",
      "metadata": {
        "id": "view-in-github",
        "colab_type": "text"
      },
      "source": [
        "<a href=\"https://colab.research.google.com/github/PyGeek03/Crazy-Fibonacci/blob/master/Fibonacci.ipynb\" target=\"_parent\"><img src=\"https://colab.research.google.com/assets/colab-badge.svg\" alt=\"Open In Colab\"/></a>"
      ]
    },
    {
      "cell_type": "code",
      "metadata": {
        "id": "t1zTGQB4I3P7",
        "colab_type": "code",
        "outputId": "1bac1831-ee2a-45e7-9ed6-1e385614eab5",
        "colab": {
          "base_uri": "https://localhost:8080/",
          "height": 128
        }
      },
      "source": [
        "from timeit import default_timer\n",
        "from math import sqrt\n",
        "\n",
        "# decimal is necessary because with default float at n = 1474 (which is pitifully small):\n",
        "# OverflowError: (34, 'Numerical result out of range')\n",
        "from decimal import *\n",
        "D = Decimal\n",
        "getcontext().Emin = 0  # fib(0) = 0\n",
        "getcontext().Emax = 999999999999999999  # decimal.MAX_EMAX on 64-bit machines. It's 425000000 on 32-bit.\n",
        "  \n",
        "\n",
        "def fib(n):\n",
        "    assert n >= 0\n",
        "    if n < 4784972:\n",
        "        # At n < 4784972, use Binet's formula\n",
        "        return _binet(n)\n",
        "    else:\n",
        "        # At n = 4784972: Overflow: [<class 'decimal.Overflow'>], revert to fast doubling\n",
        "        return _fast_doubling(n)[0]\n",
        "  \n",
        "def _binet(n):\n",
        "    \"\"\"Binet's formula:\n",
        "    (golden**n - (1-golden)**n)/sqrt(5)\n",
        "    \"\"\"   \n",
        "    golden = (1 + D(5).sqrt())/2\n",
        "    fib = (Context().power(golden,D(n)) - Context().power(1-golden, D(n)))/D(5).sqrt()\n",
        "    return Context().to_integral_exact(fib)\n",
        "  \n",
        "  \n",
        "def _fast_doubling(n):\n",
        "    \"\"\"Fast doubling method:\n",
        "    F(2n) = F(n)*(2*F(n+1) – F(n))\n",
        "    F(2n + 1) = F(n)**2 + F(n+1)**2\n",
        "    \"\"\"\n",
        "    if n <= 4784970:\n",
        "        return (_binet(4784970), _binet(4784971))\n",
        "    else:\n",
        "        fib_n, fib_n_plus_1 = _fast_doubling(n >> 1)\n",
        "        fib_2n = fib_n * (fib_n_plus_1 * 2 - fib_n)  # decimal cannot be bit-shifted\n",
        "        fib_2n_plus_1 = fib_n**2 + fib_n_plus_1**2\n",
        "        fib_2n_plus_2 = fib_2n + fib_2n_plus_1\n",
        "      \n",
        "        if n % 2 == 0:\n",
        "            return (fib_2n, fib_2n_plus_1)\n",
        "        else:\n",
        "            return (fib_2n_plus_1, fib_2n_plus_2)\n",
        "\n",
        "\n",
        "start = default_timer()\n",
        "print(fib(2630565626535477247))\n",
        "# result: about 1.56*(10**(5*10**17)) in less than a second!\n",
        "# Any bigger n would result in decimal being overflowed\n",
        "taken = default_timer() - start\n",
        "print(taken)\n",
        "\n",
        "print()\n",
        "print(fib(122) - 14028366653498915298923761)  # the last fib(n) with absolute accuracy\n",
        "print()\n",
        "print(fib(123) - 22698374052006863956975682)"
      ],
      "execution_count": 48,
      "outputs": [
        {
          "output_type": "stream",
          "text": [
            "1.559741310236098133787531843E+549755702812356230\n",
            "0.0008186110001133784\n",
            "\n",
            "0\n",
            "\n",
            "-1\n"
          ],
          "name": "stdout"
        }
      ]
    },
    {
      "cell_type": "code",
      "metadata": {
        "id": "1ljAvBzLRUMs",
        "colab_type": "code",
        "colab": {}
      },
      "source": [
        ""
      ],
      "execution_count": 0,
      "outputs": []
    }
  ]
}